{
 "cells": [
  {
   "cell_type": "code",
   "execution_count": 56,
   "metadata": {
    "collapsed": true
   },
   "outputs": [],
   "source": [
    "import pandas as pd\n",
    "import numpy as np\n",
    "import matplotlib.pyplot as plt\n",
    "\n",
    "import re\n",
    "\n",
    "%matplotlib inline"
   ]
  },
  {
   "cell_type": "code",
   "execution_count": 57,
   "metadata": {
    "collapsed": true
   },
   "outputs": [],
   "source": [
    "act = pd.read_csv('data/atusact_2014.dat')\n",
    "cps = pd.read_csv('data/atuscps_2014.dat')\n",
    "resp = pd.read_csv('data/atusresp_2014.dat')\n",
    "rost = pd.read_csv('data/atusrost_2014.dat')\n",
    "atussum = pd.read_csv('data/atussum_2014.dat') \n",
    "who = pd.read_csv('data/atuswho_2014.dat')"
   ]
  },
  {
   "cell_type": "code",
   "execution_count": null,
   "metadata": {
    "collapsed": false
   },
   "outputs": [],
   "source": []
  },
  {
   "cell_type": "code",
   "execution_count": null,
   "metadata": {
    "collapsed": false
   },
   "outputs": [],
   "source": []
  },
  {
   "cell_type": "code",
   "execution_count": 58,
   "metadata": {
    "collapsed": false
   },
   "outputs": [
    {
     "data": {
      "text/html": [
       "<div>\n",
       "<table border=\"1\" class=\"dataframe\">\n",
       "  <thead>\n",
       "    <tr style=\"text-align: right;\">\n",
       "      <th></th>\n",
       "      <th>1</th>\n",
       "      <th>2</th>\n",
       "    </tr>\n",
       "  </thead>\n",
       "  <tbody>\n",
       "    <tr>\n",
       "      <th>1</th>\n",
       "      <td>1.000000</td>\n",
       "      <td>0.168112</td>\n",
       "    </tr>\n",
       "    <tr>\n",
       "      <th>2</th>\n",
       "      <td>0.168112</td>\n",
       "      <td>1.000000</td>\n",
       "    </tr>\n",
       "  </tbody>\n",
       "</table>\n",
       "</div>"
      ],
      "text/plain": [
       "          1         2\n",
       "1  1.000000  0.168112\n",
       "2  0.168112  1.000000"
      ]
     },
     "execution_count": 58,
     "metadata": {},
     "output_type": "execute_result"
    }
   ],
   "source": [
    "resp.head()\n",
    "#resp['TRTHHFAMILY'] \n",
    "#resp['TRTNOCHILD']\n",
    "new_data = pd.concat([resp['TRTHHFAMILY'], resp['TRTNOCHILD']], axis=1, keys=['1', '2'])\n",
    "new_data.corr()"
   ]
  },
  {
   "cell_type": "code",
   "execution_count": 59,
   "metadata": {
    "collapsed": false
   },
   "outputs": [
    {
     "data": {
      "text/html": [
       "<div>\n",
       "<table border=\"1\" class=\"dataframe\">\n",
       "  <thead>\n",
       "    <tr style=\"text-align: right;\">\n",
       "      <th></th>\n",
       "      <th>TUCASEID</th>\n",
       "      <th>TULINENO</th>\n",
       "      <th>TEAGE</th>\n",
       "      <th>TERRP</th>\n",
       "      <th>TESEX</th>\n",
       "      <th>TXAGE</th>\n",
       "      <th>TXRRP</th>\n",
       "      <th>TXSEX</th>\n",
       "    </tr>\n",
       "  </thead>\n",
       "  <tbody>\n",
       "    <tr>\n",
       "      <th>0</th>\n",
       "      <td>20140101140007</td>\n",
       "      <td>1</td>\n",
       "      <td>20</td>\n",
       "      <td>19</td>\n",
       "      <td>2</td>\n",
       "      <td>0</td>\n",
       "      <td>0</td>\n",
       "      <td>0</td>\n",
       "    </tr>\n",
       "    <tr>\n",
       "      <th>1</th>\n",
       "      <td>20140101140007</td>\n",
       "      <td>2</td>\n",
       "      <td>19</td>\n",
       "      <td>21</td>\n",
       "      <td>1</td>\n",
       "      <td>0</td>\n",
       "      <td>0</td>\n",
       "      <td>0</td>\n",
       "    </tr>\n",
       "    <tr>\n",
       "      <th>2</th>\n",
       "      <td>20140101140007</td>\n",
       "      <td>3</td>\n",
       "      <td>0</td>\n",
       "      <td>22</td>\n",
       "      <td>1</td>\n",
       "      <td>0</td>\n",
       "      <td>0</td>\n",
       "      <td>0</td>\n",
       "    </tr>\n",
       "    <tr>\n",
       "      <th>3</th>\n",
       "      <td>20140101140011</td>\n",
       "      <td>1</td>\n",
       "      <td>16</td>\n",
       "      <td>18</td>\n",
       "      <td>2</td>\n",
       "      <td>0</td>\n",
       "      <td>0</td>\n",
       "      <td>0</td>\n",
       "    </tr>\n",
       "    <tr>\n",
       "      <th>4</th>\n",
       "      <td>20140101140011</td>\n",
       "      <td>2</td>\n",
       "      <td>33</td>\n",
       "      <td>24</td>\n",
       "      <td>2</td>\n",
       "      <td>0</td>\n",
       "      <td>0</td>\n",
       "      <td>0</td>\n",
       "    </tr>\n",
       "  </tbody>\n",
       "</table>\n",
       "</div>"
      ],
      "text/plain": [
       "         TUCASEID  TULINENO  TEAGE  TERRP  TESEX  TXAGE  TXRRP  TXSEX\n",
       "0  20140101140007         1     20     19      2      0      0      0\n",
       "1  20140101140007         2     19     21      1      0      0      0\n",
       "2  20140101140007         3      0     22      1      0      0      0\n",
       "3  20140101140011         1     16     18      2      0      0      0\n",
       "4  20140101140011         2     33     24      2      0      0      0"
      ]
     },
     "execution_count": 59,
     "metadata": {},
     "output_type": "execute_result"
    }
   ],
   "source": [
    "rost.head()"
   ]
  },
  {
   "cell_type": "code",
   "execution_count": 60,
   "metadata": {
    "collapsed": false
   },
   "outputs": [
    {
     "name": "stdout",
     "output_type": "stream",
     "text": [
      "0        1145\n",
      "1         540\n",
      "2         555\n",
      "3         780\n",
      "4         645\n",
      "5         240\n",
      "6         585\n",
      "7         450\n",
      "8         425\n",
      "9         520\n",
      "10        495\n",
      "11        670\n",
      "12        690\n",
      "13        531\n",
      "14        510\n",
      "15        380\n",
      "16        459\n",
      "17        535\n",
      "18        440\n",
      "19        720\n",
      "20        478\n",
      "21        405\n",
      "22        590\n",
      "23        480\n",
      "24        690\n",
      "25        630\n",
      "26        420\n",
      "27        510\n",
      "28        518\n",
      "29        640\n",
      "         ... \n",
      "11562     660\n",
      "11563     548\n",
      "11564     720\n",
      "11565     540\n",
      "11566     555\n",
      "11567     425\n",
      "11568     540\n",
      "11569     610\n",
      "11570     463\n",
      "11571     530\n",
      "11572     600\n",
      "11573     656\n",
      "11574     550\n",
      "11575     600\n",
      "11576     530\n",
      "11577     660\n",
      "11578     650\n",
      "11579     480\n",
      "11580     510\n",
      "11581     660\n",
      "11582     555\n",
      "11583     330\n",
      "11584     450\n",
      "11585     405\n",
      "11586     705\n",
      "11587     495\n",
      "11588     730\n",
      "11589     480\n",
      "11590     590\n",
      "11591     540\n",
      "Name: sleeping, dtype: int64\n"
     ]
    }
   ],
   "source": [
    "atussum.rename(columns={'TEAGE':'Age', 'TESEX':'Sex', 'tucaseid':'ID', 't120302':'drug_use','t120301':'relaxing_thinking', 't050101':'working'}, inplace=True)\n",
    "atussum.rename(columns={'t120303':'TV','t120305':'Radio','t140101':'religious','t160101':'phone', 't120313':'writing'}, inplace=True)\n",
    "atussum.rename(columns={'t120404':'gambling', 't010101':'sleeping','t500106':'gap', 't180501':'work_travel'}, inplace=True)\n",
    "interesting_data = pd.concat([atussum['ID'], atussum['Age'], atussum['Sex'], atussum['drug_use'], atussum['relaxing_thinking']], axis=1, keys=['ID', 'Age', 'Sex', 'drug_use', 'relaxing_thinking'])\n",
    "interesting_data['working'] = atussum['working']\n",
    "interesting_data['TV'] = atussum['TV']\n",
    "interesting_data['Radio'] = atussum['Radio']\n",
    "interesting_data['religious'] = atussum['religious']\n",
    "interesting_data['phone'] = atussum['phone']\n",
    "interesting_data['writing'] = atussum['writing']\n",
    "interesting_data['gambling'] = atussum['gambling']\n",
    "interesting_data['sleeping'] = atussum['sleeping']\n",
    "interesting_data['gap'] = atussum['gap']\n",
    "interesting_data['work_travel'] = atussum['work_travel']\n",
    "#atussum = atussum.corr()\n",
    "print(atussum['sleeping'])"
   ]
  },
  {
   "cell_type": "code",
   "execution_count": 63,
   "metadata": {
    "collapsed": false
   },
   "outputs": [
    {
     "data": {
      "text/plain": [
       "<matplotlib.axes._subplots.AxesSubplot at 0x107f65390>"
      ]
     },
     "execution_count": 63,
     "metadata": {},
     "output_type": "execute_result"
    },
    {
     "data": {
      "image/png": "[encoded data removed]",
      "text/plain": [
       "<matplotlib.figure.Figure at 0x107152550>"
      ]
     },
     "metadata": {},
     "output_type": "display_data"
    }
   ],
   "source": [
    "atussum.plot(kind = 'scatter', x = 'sleeping', y = 'gap')"
   ]
  },
  {
   "cell_type": "code",
   "execution_count": null,
   "metadata": {
    "collapsed": false
   },
   "outputs": [],
   "source": []
  },
  {
   "cell_type": "code",
   "execution_count": null,
   "metadata": {
    "collapsed": true
   },
   "outputs": [],
   "source": []
  }
 ],
 "metadata": {
  "kernelspec": {
   "display_name": "Python 3",
   "language": "python",
   "name": "python3"
  },
  "language_info": {
   "codemirror_mode": {
    "name": "ipython",
    "version": 3
   },
   "file_extension": ".py",
   "mimetype": "text/x-python",
   "name": "python",
   "nbconvert_exporter": "python",
   "pygments_lexer": "ipython3",
   "version": "3.4.3"
  }
 },
 "nbformat": 4,
 "nbformat_minor": 0
}
